{
  "nbformat": 4,
  "nbformat_minor": 0,
  "metadata": {
    "colab": {
      "provenance": []
    },
    "kernelspec": {
      "name": "python3",
      "display_name": "Python 3"
    },
    "language_info": {
      "name": "python"
    }
  },
  "cells": [
    {
      "cell_type": "code",
      "execution_count": null,
      "metadata": {
        "colab": {
          "base_uri": "https://localhost:8080/",
          "height": 435
        },
        "id": "XOcii_5gtLQV",
        "outputId": "33c5c381-b063-4723-f1ee-344b71c1e968"
      },
      "outputs": [
        {
          "output_type": "display_data",
          "data": {
            "text/plain": [
              "<Figure size 640x480 with 1 Axes>"
            ],
            "image/png": "[encoded data removed]"
          },
          "metadata": {}
        }
      ],
      "source": [
        "from collections import Counter\n",
        "import matplotlib.pyplot as plt\n",
        "\n",
        "def cal_mean(ds):\n",
        "    return sum(ds)/len(ds)\n",
        "\n",
        "def get_mode(ds):\n",
        "    return [i for i,j in Counter(ds).items() if(j==max(Counter(ds).values()))]\n",
        "\n",
        "def get_median(ds):\n",
        "    if(len(ds) %2!=0):\n",
        "        return ds[len(ds)//2]\n",
        "    else:\n",
        "        return (ds[len(ds)//2] + ds[(len(ds)//2) -1])/2\n",
        "    \n",
        "\n",
        "def get_quantile(ds,m):\n",
        "    #print(ds)\n",
        "    return [ds[int(m*len(ds))],int(m*len(ds))]\n",
        "    \n",
        "num_friends = [\n",
        "              100.0,49,41,40,25,21,21,19,19,18,18,16,15,15,15,15,14,14,13,13,\n",
        "               13,13,12,12,11,10,10,10,10,10,10,10,10,10,10,10,10,10,10,10,9,\n",
        "               9,9,9,9,9,9,9,9,9,9,9,9,9,9,9,9,9,8,8,8,8,8,8,8,8,8,8,8,8,8,7,\n",
        "               7,7,7,7,7,7,7,7,7,7,7,7,7,7,6,6,6,6,6,6,6,6,6,6,6,6,6,6,6,6,6,\n",
        "               6,6,6,6,6,5,5,5,5,5,5,5,5,5,5,5,5,5,5,5,5,5,4,4,4,4,4,4,4,4,4,\n",
        "               4,4,4,4,4,4,4,4,4,4,4,3,3,3,3,3,3,3,3,3,3,3,3,3,3,3,3,3,3,3,3,\n",
        "               2,2,2,2,2,2,2,2,2,2,2,2,2,2,2,2,2,1,1,1,1,1,1,1,1,1,1,1,1,1,1,\n",
        "               1,1,1,1,1,1,1,1\n",
        "               ]\n",
        "\n",
        "f = Counter(num_friends)\n",
        "plt.bar(f.keys(),f.values(),color='pink')\n",
        "plt.axis([0,101,0,25])\n",
        "plt.xticks([i*5 for i in range(0,21)])\n",
        "plt.show()\n"
      ]
    },
    {
      "cell_type": "code",
      "source": [
        "mean = cal_mean(num_friends)\n",
        "# median is the center of the dataset i.e divides it in 50-50 % \n",
        "median = get_median(sorted(num_friends[:]))\n",
        "# mode is the elements having maximum repitations in a dataset\n",
        "mode = get_mode(num_friends)\n",
        "# Quantile(m) divides the dataset in m% and (100-m)%\n",
        "# index of quantile --> m% of length of the dataset\n",
        "quantile = get_quantile(sorted(num_friends[:]),0.1)\n",
        "print(\"Mean : \",mean)\n",
        "print(\"Median : \",median)\n",
        "print(\"Mode : \",mode)\n",
        "print(\"Quantile 10% : \",quantile)"
      ],
      "metadata": {
        "colab": {
          "base_uri": "https://localhost:8080/"
        },
        "id": "6zqg1YO5tQlJ",
        "outputId": "0cb913f1-f484-4e22-af49-cd7bda2cb438"
      },
      "execution_count": null,
      "outputs": [
        {
          "output_type": "stream",
          "name": "stdout",
          "text": [
            "Mean :  7.333333333333333\n",
            "Median :  6.0\n",
            "Mode :  [6, 1]\n",
            "Quantile 10% :  [1, 20]\n"
          ]
        }
      ]
    },
    {
      "cell_type": "code",
      "source": [
        "# to calculate quantile of a dataset\n",
        "def quantile(ds , p):\n",
        "  index = int(p*len(ds))\n",
        "  return sorted(ds)[index]\n",
        "\n",
        "print(quantile(num_friends,.90))"
      ],
      "metadata": {
        "colab": {
          "base_uri": "https://localhost:8080/"
        },
        "id": "9MRNQ8e9twSA",
        "outputId": "c62f6d4c-ea3d-4062-b5f0-7e1050fa6b0c"
      },
      "execution_count": null,
      "outputs": [
        {
          "output_type": "stream",
          "name": "stdout",
          "text": [
            "13\n"
          ]
        }
      ]
    },
    {
      "cell_type": "code",
      "source": [
        "# to calculate range\n",
        "def range(ds):\n",
        "  return max(ds)-min(ds)\n",
        "\n",
        "print(range(num_friends))  # if larger means data is more widely speard out"
      ],
      "metadata": {
        "colab": {
          "base_uri": "https://localhost:8080/"
        },
        "id": "uVhUKLEU5H-2",
        "outputId": "3e1c9112-315b-4fa7-9efe-566bc20de209"
      },
      "execution_count": null,
      "outputs": [
        {
          "output_type": "stream",
          "name": "stdout",
          "text": [
            "99.0\n"
          ]
        }
      ]
    },
    {
      "cell_type": "code",
      "source": [
        "# to calculate variance \n",
        "\n",
        "def variance(ds):\n",
        "  mean = sum(ds)/len(ds)\n",
        "  return sum([pow(x-mean,2) for x in ds])/(len(ds)-1)\n",
        "\n",
        "print(variance(num_friends))"
      ],
      "metadata": {
        "colab": {
          "base_uri": "https://localhost:8080/"
        },
        "id": "4-yoXA7t6K7g",
        "outputId": "0c8aa744-0813-4010-c5b4-4cf1ce422474"
      },
      "execution_count": null,
      "outputs": [
        {
          "output_type": "stream",
          "name": "stdout",
          "text": [
            "81.54351395730716\n"
          ]
        }
      ]
    },
    {
      "cell_type": "code",
      "source": [
        "import math\n",
        "# standard deviation \n",
        "def stand_deviation(ds):\n",
        "  return math.sqrt(variance(ds))\n",
        "\n",
        "print(stand_deviation(num_friends))"
      ],
      "metadata": {
        "colab": {
          "base_uri": "https://localhost:8080/"
        },
        "id": "F3TnoDja7BsD",
        "outputId": "b6e11098-6037-4c25-bad3-e86e9f64b754"
      },
      "execution_count": null,
      "outputs": [
        {
          "output_type": "stream",
          "name": "stdout",
          "text": [
            "9.03014473623248\n"
          ]
        }
      ]
    },
    {
      "cell_type": "code",
      "source": [
        "# to compute interquantile range between n% and m% where n>m\n",
        "\n",
        "def interquantile_range(ds,n,m):\n",
        "  return quantile(ds,n/100)-quantile(ds,m/100)\n",
        "\n",
        "print(interquantile_range(num_friends,75,25))\n",
        "\n"
      ],
      "metadata": {
        "colab": {
          "base_uri": "https://localhost:8080/"
        },
        "id": "daySdEHS70C3",
        "outputId": "8e202c51-b98c-4c98-b205-8923c34d5057"
      },
      "execution_count": null,
      "outputs": [
        {
          "output_type": "stream",
          "name": "stdout",
          "text": [
            "6\n"
          ]
        }
      ]
    },
    {
      "cell_type": "code",
      "source": [
        "# to compute co-variance\n",
        "\n",
        "def co_variance(ds,ds2):\n",
        "  assert(len(ds)== len(ds2))\n",
        "  return dot_product(cal_mean(ds)*cal_mean(ds2))/(len(ds)-1)  # unit1.unit2"
      ],
      "metadata": {
        "id": "2s6OVBuP-zJV"
      },
      "execution_count": null,
      "outputs": []
    },
    {
      "cell_type": "code",
      "source": [
        "# to compute co-relation\n",
        "\n",
        "def co_relation(ds,ds2):     # -1<= co_relation<=1  (1-> for strong +ve relation and -1 -> for strong -ve relation & 0-> for no relation)\n",
        "  sd_x = stand_deviation(ds)\n",
        "  sd_y = stand_deviation(ds2)\n",
        "  if sd_x>0 and sd_y>0:\n",
        "    return (co_variance(ds,ds2)/(sd_x * sd_y))  # unitless\n",
        "  else:\n",
        "    return 0"
      ],
      "metadata": {
        "id": "-ucWSTAm_8ya"
      },
      "execution_count": null,
      "outputs": []
    }
  ]
}