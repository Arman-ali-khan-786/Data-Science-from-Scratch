{
  "nbformat": 4,
  "nbformat_minor": 0,
  "metadata": {
    "colab": {
      "provenance": []
    },
    "kernelspec": {
      "name": "python3",
      "display_name": "Python 3"
    },
    "language_info": {
      "name": "python"
    }
  },
  "cells": [
    {
      "cell_type": "code",
      "execution_count": null,
      "metadata": {
        "id": "qPPS6Gfg19ZX",
        "colab": {
          "base_uri": "https://localhost:8080/"
        },
        "outputId": "26504d1d-ba62-4512-d7c8-42378ce45ff5"
      },
      "outputs": [
        {
          "output_type": "stream",
          "name": "stdout",
          "text": [
            "[5, 7, 9]\n",
            "[3, 3, 3]\n"
          ]
        }
      ],
      "source": [
        "from typing import List\n",
        "\n",
        "# to add two vectors\n",
        "def addVector(v: Vector, w: Vector) -> Vector:\n",
        "  assert(len(v) == len(w))\n",
        "  return [i+j for i,j in zip(v,w)]\n",
        "\n",
        "# to substract two vectors\n",
        "def subVector(v: Vector, w: Vector) -> Vector:\n",
        "  assert(len(v) == len(w))\n",
        "  return [i-j for i,j in zip(v,w)]\n",
        "\n",
        "# vector = List[float]\n",
        "print(addVector([4,5,6],[1,2,3]))\n",
        "print(subVector([4,5,6],[1,2,3]))\n",
        "\n"
      ]
    },
    {
      "cell_type": "code",
      "source": [
        "# to component-wise add/sum of list of vectors\n",
        "\n",
        "def vector_sum(vect : List[Vector]) -> Vector:\n",
        "  assert vect\n",
        "  assert( all(len(v) == len(vect[0]) for v in vect))\n",
        "  return [sum(v[i] for v in vect) for i in range(len(vect[0]))]\n",
        "\n",
        "vectors = [[1,2,4],[6,23,9],[8,4,2],[9,1,7]]\n",
        "print(vector_sum(vectors))\n"
      ],
      "metadata": {
        "colab": {
          "base_uri": "https://localhost:8080/"
        },
        "id": "P2lsk7HS5khV",
        "outputId": "41adee55-e68d-4715-8115-90f6e7ac1c7f"
      },
      "execution_count": null,
      "outputs": [
        {
          "output_type": "stream",
          "name": "stdout",
          "text": [
            "[24, 30, 22]\n"
          ]
        }
      ]
    },
    {
      "cell_type": "code",
      "source": [
        "def scalar_multiply(c : float, vect: Vector) -> float:\n",
        "  return [c*v for v in vect]\n",
        "\n",
        "print(scalar_multiply(2,[4,5,6,7]))"
      ],
      "metadata": {
        "colab": {
          "base_uri": "https://localhost:8080/"
        },
        "id": "q4XmPGYB_6Nm",
        "outputId": "a58233f6-57f0-4ea9-cca8-1a45cc73dabe"
      },
      "execution_count": null,
      "outputs": [
        {
          "output_type": "stream",
          "name": "stdout",
          "text": [
            "[8, 10, 12, 14]\n"
          ]
        }
      ]
    },
    {
      "cell_type": "code",
      "source": [
        "# to compute component-wise mean of sum of list of vectors\n",
        "def vector_mean(vect: List[Vector]) -> Vector:\n",
        "  n = len(vect)\n",
        "  return scalar_multiply(1/n,vector_sum(vect))\n",
        "\n",
        "print(vector_mean(vectors))"
      ],
      "metadata": {
        "colab": {
          "base_uri": "https://localhost:8080/"
        },
        "id": "M14qYxux_cb4",
        "outputId": "65102c4e-1cb6-479d-c5d8-b87120fb848f"
      },
      "execution_count": null,
      "outputs": [
        {
          "output_type": "stream",
          "name": "stdout",
          "text": [
            "[6.0, 7.5, 5.5]\n"
          ]
        }
      ]
    },
    {
      "cell_type": "code",
      "source": [
        "# dot product of two vecotrs\n",
        "\n",
        "def dot_product(v:Vector, w:Vector) -> Vector:\n",
        "  assert(len(v) == len(w))\n",
        "  return sum(i*j for i,j in zip(v,w))\n",
        "\n",
        "print(dot_product([5,6,9],[4,7,1]))"
      ],
      "metadata": {
        "colab": {
          "base_uri": "https://localhost:8080/"
        },
        "id": "JcP_grd49gDy",
        "outputId": "2cd20e95-18b2-4758-c0d5-0a9f41785fea"
      },
      "execution_count": null,
      "outputs": [
        {
          "output_type": "stream",
          "name": "stdout",
          "text": [
            "71\n"
          ]
        }
      ]
    },
    {
      "cell_type": "code",
      "source": [
        "# to compute a vector's sum of squares\n",
        "\n",
        "def sum_squares(v: Vector ) -> float:\n",
        "  return dot_product(v,v)\n",
        "\n",
        "print(sum_squares([2,3,4]))"
      ],
      "metadata": {
        "colab": {
          "base_uri": "https://localhost:8080/"
        },
        "id": "c6cLvTNuCPEh",
        "outputId": "c76c012d-a2df-476a-e180-076d3f76cb99"
      },
      "execution_count": null,
      "outputs": [
        {
          "output_type": "stream",
          "name": "stdout",
          "text": [
            "29\n"
          ]
        }
      ]
    },
    {
      "cell_type": "code",
      "source": [
        "# to compute magnitude of a Vector\n",
        "import math\n",
        "def magnitude(v:Vector) -> float:\n",
        "  return math.sqrt(sum_squares(v))\n",
        "\n",
        "print(round(magnitude([2,4,6]),2))"
      ],
      "metadata": {
        "colab": {
          "base_uri": "https://localhost:8080/"
        },
        "id": "OjcnKbIcFiQz",
        "outputId": "f2f7e269-e32d-49c4-9779-3425a8c7c8f9"
      },
      "execution_count": null,
      "outputs": [
        {
          "output_type": "stream",
          "name": "stdout",
          "text": [
            "7.48\n"
          ]
        }
      ]
    },
    {
      "cell_type": "code",
      "source": [
        "# to compute distance between two vectors\n",
        "\n",
        "def distance(v:Vector , w:Vector) -> float:\n",
        "  return math.sqrt(sum_squares(subVector(v,w)))\n",
        "\n",
        "print(round(distance([2,4,6],[1,3,2]),2))"
      ],
      "metadata": {
        "colab": {
          "base_uri": "https://localhost:8080/"
        },
        "id": "ZuPRANKEGOBM",
        "outputId": "81529a6c-eaab-428e-a1eb-fae8521bd7bd"
      },
      "execution_count": null,
      "outputs": [
        {
          "output_type": "stream",
          "name": "stdout",
          "text": [
            "4.24\n"
          ]
        }
      ]
    },
    {
      "cell_type": "code",
      "source": [
        "# Matrix \n",
        "\n",
        "from typing import Tuple\n",
        "\n",
        "# to return order of the matrix\n",
        "def shape(mat): \n",
        "  return len(mat),(len(mat[0] if mat else 0))\n",
        "\n",
        "# to get no of rows\n",
        "def get_row(mat , i):\n",
        "  return mat[i]\n",
        "\n",
        "# to get no of columns\n",
        "def get_column(mat,i):\n",
        "  return [row[i] for row in mat]\n",
        "\n",
        "# to define identity matrix \n",
        "\n",
        "def identity_mat(n):\n",
        "  return make_matrix(n,n, lambda i,j : 1 if i==j else 0)\n",
        "\n",
        "\n",
        "\n",
        "matrix = [[1,3,4],[6,7,8],[2,5,9]]\n",
        "print(shape(matrix))\n",
        "print(get_row(matrix,2))\n",
        "print(get_column(matrix,1))"
      ],
      "metadata": {
        "colab": {
          "base_uri": "https://localhost:8080/"
        },
        "id": "JB82jdcXHNLt",
        "outputId": "ad9595a0-3052-4c77-b61f-8ec79873b354"
      },
      "execution_count": null,
      "outputs": [
        {
          "output_type": "stream",
          "name": "stdout",
          "text": [
            "(3, 3)\n",
            "[2, 5, 9]\n",
            "[3, 7, 5]\n"
          ]
        }
      ]
    },
    {
      "cell_type": "code",
      "source": [
        "# to make a matrix \n",
        "\n",
        "def make_matrix(r,c,entry_fn):\n",
        "  return [[entry_fn(i,j) for i in range(r)] for j in range(c)]\n",
        "\n",
        "print(make_matrix(3,3,lambda i,j : int(input(\"enter : \"))))"
      ],
      "metadata": {
        "colab": {
          "base_uri": "https://localhost:8080/"
        },
        "id": "Zzuj-gETiQzU",
        "outputId": "7eded276-ae60-429c-b5ee-a7595125bc09"
      },
      "execution_count": 4,
      "outputs": [
        {
          "output_type": "stream",
          "name": "stdout",
          "text": [
            "enter : 4\n",
            "enter : 5\n",
            "enter : 7\n",
            "enter : 8\n",
            "enter : 12\n",
            "enter : 22\n",
            "enter : 45\n",
            "enter : 78\n",
            "enter : 89\n",
            "[[4, 5, 7], [8, 12, 22], [45, 78, 89]]\n"
          ]
        }
      ]
    }
  ]
}